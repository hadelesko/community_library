{
 "cells": [
  {
   "cell_type": "code",
   "execution_count": 117,
   "metadata": {
    "scrolled": true
   },
   "outputs": [
    {
     "name": "stdout",
     "output_type": "stream",
     "text": [
      "50\n",
      "47\n",
      "48\n",
      "49\n",
      "50\n"
     ]
    }
   ],
   "source": [
    "##Day3\n",
    "\n",
    "#==============================================================================\n",
    "# Generators\n",
    "#  Create a generator that yields \"n\" random numbers\n",
    "#  between a low and high number (that are inputs).\n",
    "#  Note: Use the random library. \n",
    "#==============================================================================\n",
    "import random as r\n",
    "def randomrange(n,m):\n",
    "    low = n  if n < m else m\n",
    "    high= m  if n<m else n\n",
    "    for i in range(low,high):\n",
    "        yield r.randint(i, high)\n",
    "f= randomrange(50, 45)\n",
    "for x in f:\n",
    "    print(x)"
   ]
  },
  {
   "cell_type": "code",
   "execution_count": 118,
   "metadata": {},
   "outputs": [
    {
     "name": "stdout",
     "output_type": "stream",
     "text": [
      "Prime numbers in the range( 30 , 200 )\n",
      "[31, 37, 41, 43, 47, 53, 59, 61, 67, 71, 73, 79, 83, 89, 97, 101, 103, 107, 109, 113, 127, 131, 137, 139, 149, 151, 157, 163, 167, 173, 179, 181, 191, 193, 197, 199]\n"
     ]
    }
   ],
   "source": [
    "\n",
    "#==============================================================================\n",
    "# Iterators generator\n",
    "# Display prime numbers from n1 to n2 using iterators and generators.\n",
    "# 30 to 200: iterator protocal\n",
    "# Generator method to get prime numbers from 30 to 200.\n",
    "# \n",
    "# write two python programs using both iterators and generators.\n",
    "#==============================================================================\n",
    "\n",
    "\n",
    "def is_prime_number(n):\n",
    "    count=1\n",
    "    isprime=False\n",
    "    \n",
    "    if n==0: \n",
    "        isprime=False\n",
    "    else:\n",
    "        if n==1 or n==2:\n",
    "            isprime=True\n",
    "        else:\n",
    "            for i in range(2, n):            \n",
    "                if n%i==0:\n",
    "                    count+=1\n",
    "                    isprime=False\n",
    "                    ##print(\"is not prime number\")\n",
    "                    break\n",
    "                isprime=True\n",
    "    return isprime\n",
    "\n",
    "    #return isprime\n",
    "\n",
    "    \n",
    "def prime_number(n, m):\n",
    "    p_list=[]\n",
    "    low = n  if n < m else m\n",
    "    high= m  if n<m else n\n",
    "    print(\"Prime numbers in the range(\", low,\",\", high, \")\")\n",
    "    for k in range(low, high):\n",
    "        if is_prime_number(k)==True:\n",
    "            yield k\n",
    "            p_list.append(k)\n",
    "    \n",
    "generator=prime_number(30, 200)\n",
    "print([s for s in generator]) \n",
    "\n"
   ]
  },
  {
   "cell_type": "code",
   "execution_count": 115,
   "metadata": {},
   "outputs": [
    {
     "name": "stdout",
     "output_type": "stream",
     "text": [
      "sent: 31, new average: 31.0\n",
      "sent: 37, new average: 34.0\n",
      "sent: 41, new average: 36.33\n",
      "sent: 43, new average: 38.0\n",
      "sent: 47, new average: 39.8\n",
      "sent: 53, new average: 42.0\n",
      "sent: 59, new average: 44.43\n",
      "sent: 61, new average: 46.5\n",
      "sent: 67, new average: 48.78\n"
     ]
    }
   ],
   "source": [
    "#==============================================================================\n",
    "#     Write a generator which computes the running average for any given list\n",
    "#     e.g. input - [7, 13, 17, 231, 12, 8, 3]\n",
    "#     output - sent: 7, new average: 7.00 sent: 13, new average: 10.00\n",
    "#     sent: 17, new average: 12.33 sent: 231, new average: 67.00\n",
    "#     sent: 12, new average: 56.00 sent: 8, new average: 48.00\n",
    "#     sent: 3, new average: 41.57\n",
    "#==============================================================================\n",
    "\n",
    "def average(alist):\n",
    "    count=0\n",
    "    summe=0\n",
    "    \n",
    "    for n in alist:\n",
    "        count+=1\n",
    "        summe+=n\n",
    "        yield \"sent: \"+ str(n)+ \", new average: \"+str(round(summe/count, 2))\n",
    "        \n",
    "d=average([31, 37, 41, 43, 47, 53, 59, 61, 67])\n",
    "for line in d:\n",
    "    print(line)"
   ]
  },
  {
   "cell_type": "code",
   "execution_count": null,
   "metadata": {},
   "outputs": [],
   "source": [
    "##Day3\n",
    "\n",
    "#==============================================================================\n",
    "# Inheritance Poly\n",
    "# Inheritahce and Polymorphism\n",
    "# (The Person, Student, Employee, Faculty, and Staff classes) Design a\n",
    "# class named Person and its two subclasses named Student and Employee.\n",
    "# Make Faculty and Staff subclasses of Employee. A person has a name,\n",
    "# address, phone number, and email address. A student has a class status (freshman,\n",
    "# sophomore, junior, or senior). Define the status as a constant. An employee has an\n",
    "# office, salary, and date hired.A faculty member has office hours\n",
    "# and a rank. A staff member has a title. Override the repr() function in each\n",
    "# class to display the class name and the persons name.\n",
    "#  Write a test code that creates a Person, Student, Employee, Faculty, and Staff.\n",
    "#==============================================================================\n"
   ]
  },
  {
   "cell_type": "code",
   "execution_count": 113,
   "metadata": {},
   "outputs": [
    {
     "name": "stdout",
     "output_type": "stream",
     "text": [
      "Person (kay,paris,2345345,had@summitwork.com)\n",
      "Student(super)\n",
      "Employee(super)\n",
      "Faculty(super)\n",
      "Staff(super)\n"
     ]
    }
   ],
   "source": [
    "# Inheritahce and Polymorphism\n",
    "class Person:\n",
    "    def __init__(self, name, address, phone, email):\n",
    "        self.name=name\n",
    "        self.address=address\n",
    "        self.phone=phone\n",
    "        self.email=email\n",
    "    def __str__(self):\n",
    "        return '(' + str(self.name) + '/' + str(self.address) + '/' + str(self.phone)+'/' + str(self.email)+ ')'\n",
    "    def __repr__(self):\n",
    "        return 'Person ('+ str(self.name) + ',' + str(self.address) + ',' + str(self.phone)+',' + str(self.email) + ')'\n",
    "    def getname(self):\n",
    "        return self.name\n",
    "    def getaddress(self):\n",
    "        return self.address\n",
    "    def getphone(self):\n",
    "        return self.phone\n",
    "    def getemail(self):\n",
    "        return self.email\n",
    "    \n",
    "class Student(Person):\n",
    "    \n",
    "    status=[\"freshman\", \"sophomore\", \"junior\",\"senior\"]\n",
    "    def __init__(self, optionstatus):\n",
    "        super().__class__.__name__\n",
    "        self.optionstatus=optionstatus\n",
    "        \n",
    "    def getinfo():\n",
    "        return Student\n",
    "    def __repr__(self):\n",
    "        return 'Student('+ str(super().__class__.__name__)+')'\n",
    "    \n",
    "class Employee(Person):\n",
    "    def __init__(self, office, salary, date_hired):\n",
    "        class_name=super().__class__.__name__\n",
    "        self.office=office\n",
    "        self.salary=salary\n",
    "        self.date_hired=date_hired\n",
    "    def __repr__(self):\n",
    "            return 'Employee('+ str(super().__class__.__name__)+')'   \n",
    "    \n",
    "class Faculty(Employee):\n",
    "    rankCount=0\n",
    "    def __init__(self, office_hours, rank):\n",
    "        class_name=super().__class__.__name__\n",
    "        self.office_hours=office_hours\n",
    "        self.rank=rank\n",
    "        \n",
    "    def __repr__(self):\n",
    "            return 'Faculty('+ str(super().__class__.__name__)+')'    \n",
    "class Staff(Employee):\n",
    "    def __init__(self, title):\n",
    "        super().__class__.__name__\n",
    "        self.title=title\n",
    "    def __repr__(self):\n",
    "        return 'Staff('+ str(super().__class__.__name__)+')' \n",
    "        \n",
    "pers=Person(\"kay\", \"paris\", \"2345345\", \"had@summitwork.com\")\n",
    "\n",
    "stud=Student(\"freshman\") \n",
    "emp=Employee(\"45\", 20500, \"02-05-2005\") \n",
    "fac=Faculty(30, 300) \n",
    "staf=Staff(\"medecin\")\n",
    "\n",
    "print(pers.__repr__())\n",
    "print(stud.__repr__())\n",
    "print(emp.__repr__())\n",
    "print(fac.__repr__())\n",
    "print(staf.__repr__())"
   ]
  },
  {
   "cell_type": "code",
   "execution_count": null,
   "metadata": {},
   "outputs": [],
   "source": []
  }
 ],
 "metadata": {
  "kernelspec": {
   "display_name": "Python 3",
   "language": "python",
   "name": "python3"
  },
  "language_info": {
   "codemirror_mode": {
    "name": "ipython",
    "version": 3
   },
   "file_extension": ".py",
   "mimetype": "text/x-python",
   "name": "python",
   "nbconvert_exporter": "python",
   "pygments_lexer": "ipython3",
   "version": "3.7.3"
  }
 },
 "nbformat": 4,
 "nbformat_minor": 2
}
