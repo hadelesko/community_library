{
 "cells": [
  {
   "cell_type": "code",
   "execution_count": 7,
   "metadata": {},
   "outputs": [
    {
     "name": "stdout",
     "output_type": "stream",
     "text": [
      "Enter first integer : 9\n",
      "Enter second integer : 0\n",
      "Please enter two integers different to zero[0] or if one is zero the other must be negative value\n",
      "Goodbye\n",
      "end of the app, we appreciate your time\n"
     ]
    }
   ],
   "source": [
    "\n",
    "\n",
    "#==============================================================================\n",
    "# #==============================================================================\n",
    "# # Exception Assignment\n",
    "# # 1. Create a user defind exception class called nonintresultexception \n",
    "# # which is generated when the result\n",
    "# # of dividing two integers values produces a result with a fractional \n",
    "# # component[ i.e the result is not an integer]\n",
    "# # nonintresultexception contains:\n",
    "# # Generates an appropriate message , for example if the two integers \n",
    "# # are 7 and 2 . The resulting \n",
    "# # exception message would be 7 divided by 2 is not an integer\n",
    "# # \n",
    "#==============================================================================\n",
    "#==============================================================================\n",
    "\n",
    "\n",
    "class nonintresultexception(Exception):\n",
    "    pass\n",
    "\n",
    "\n",
    "try:\n",
    "\n",
    "    n1 = int(input(\"Enter first integer : \"))\n",
    "    n2 = int(input(\"Enter second integer : \"))\n",
    "    q = n2 % n1 if n2 > n1 else n1 % n2\n",
    "    qn= n2/n1 if n2 > n1 else n1/n2\n",
    "    if q != 0:\n",
    "        raise nonintresultexception(\" Not an integer\")\n",
    "\n",
    "except nonintresultexception as t:\n",
    "    print(\"the 2 integers are not divisible\")\n",
    "    print(t)\n",
    "except ZeroDivisionError:\n",
    "    print(\"Please enter two integers different to zero[0] or if one is zero the other must be negative value\")\n",
    "\n",
    "except ValueError:\n",
    "    print(\"please enter integers values...\")\n",
    "else:\n",
    "    print(\"you entered proper values, thanks for the inputs\")\n",
    "    # load other services\n",
    "    # load the services, depending on the location\n",
    "finally:\n",
    "    print(\"Goodbye\")\n",
    "\n",
    "    print(\"end of the app, we appreciate your time\")\n"
   ]
  },
  {
   "cell_type": "code",
   "execution_count": null,
   "metadata": {},
   "outputs": [],
   "source": []
  },
  {
   "cell_type": "code",
   "execution_count": null,
   "metadata": {},
   "outputs": [],
   "source": [
    "####################################################################\n",
    "#           Database connection  day5 exercise                     #\n",
    "####################################################################\n",
    "\n",
    "import pymysql\n",
    "db = pymysql.connect(\"localhost\",\"root\",\"mypassword\",\"myday5\")\n",
    "cursor=db.cursor()\n",
    "\n",
    "sql=\"\"\"Create table country(\n",
    "country_id varchar(5),\n",
    "country_name varchar(50),\n",
    "regionId int(4));\"\"\"\n",
    "\n",
    "sqls=\"\"\"insert into country values(\"c1\", \"United state\",1001 );\"\"\"\n",
    "# sql2=\"\"\"insert into country(country_id, country_name) values(\"c4\", \"vietnam\");\n",
    "# sql2 = \"\"\"insert into country (country_id, country_name)values(\"c5\", \"Indonesia\");\"\"\"\n",
    "#sql2 = \"\"\"insert into country values(\"c2\", \"England\", 1002 );\"\"\"\n",
    "sql2=\"\"\"insert into country values(\"c3\", \"Germany\",1002 );\"\"\"\n",
    "\n",
    "cursor.execute(sql2)\n",
    "db.commit()\n",
    "select=\"\"\"select * from country; \"\"\"\n",
    "m=cursor.execute(select)\n",
    "db.commit()\n",
    "fetchall=cursor.fetchall()\n",
    "[print(row) for row in fetchall ]\n"
   ]
  }
 ],
 "metadata": {
  "kernelspec": {
   "display_name": "Python 3",
   "language": "python",
   "name": "python3"
  },
  "language_info": {
   "codemirror_mode": {
    "name": "ipython",
    "version": 3
   },
   "file_extension": ".py",
   "mimetype": "text/x-python",
   "name": "python",
   "nbconvert_exporter": "python",
   "pygments_lexer": "ipython3",
   "version": "3.7.3"
  }
 },
 "nbformat": 4,
 "nbformat_minor": 2
}
